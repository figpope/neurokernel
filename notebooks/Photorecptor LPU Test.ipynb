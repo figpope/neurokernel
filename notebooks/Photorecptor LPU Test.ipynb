{
 "metadata": {
  "name": ""
 },
 "nbformat": 3,
 "nbformat_minor": 0,
 "worksheets": [
  {
   "cells": [
    {
     "cell_type": "heading",
     "level": 1,
     "metadata": {},
     "source": [
      "Simple Photoreceptor Demonstration"
     ]
    },
    {
     "cell_type": "heading",
     "level": 3,
     "metadata": {},
     "source": [
      "A Simple Example: Creating an LPU"
     ]
    },
    {
     "cell_type": "markdown",
     "metadata": {},
     "source": [
      "We first define our network, including the base condition of a starting voltage of -0.07 for the HHN."
     ]
    },
    {
     "cell_type": "code",
     "collapsed": false,
     "input": [
      "import numpy as np\n",
      "import networkx as nx\n",
      "\n",
      "G = nx.DiGraph() # or nx.MultiDiGraph()\n",
      "G.add_nodes_from([0])\n",
      "G.node[0] = {\n",
      "    'model': 'Photoreceptor',\n",
      "    'name': 'neuron_0',\n",
      "    'extern': True,   # indicates whether the neuron can receive an external input signal\n",
      "    'public': True,   # indicates whether the neuron can emit output to other LPUs \n",
      "    'spiking': False,  # indicates whether the neuron's output is spikes or its membrane voltage\n",
      "    'sa': 0.3664, # initial membrane voltage\n",
      "    'si': 0.8969,\n",
      "    'dra': 0.027,\n",
      "    'dri': 0.4092,\n",
      "    'initV': -0.07}\n",
      "nx.write_gexf(G, 'simple_lpu.gexf.gz')"
     ],
     "language": "python",
     "metadata": {},
     "outputs": [],
     "prompt_number": 2
    },
    {
     "cell_type": "markdown",
     "metadata": {},
     "source": [
      "The LPU defined earlier can be instantiated and executed with photon inputs as follows:"
     ]
    },
    {
     "cell_type": "code",
     "collapsed": false,
     "input": [
      "from neurokernel.core import Manager\n",
      "from neurokernel.LPU.LPU import LPU\n",
      "from neurokernel.tools.comm import get_random_port\n",
      "\n",
      "dt = 1e-5           # time resolution of model execution in seconds\n",
      "dur = 0.2           # duration in seconds\n",
      "Nt = int(dur/dt)    # number of data points in time\n",
      "\n",
      "port_data = get_random_port()\n",
      "port_ctrl = get_random_port()\n",
      "\n",
      "(n_dict, s_dict) = LPU.lpu_parser('simple_lpu.gexf.gz')\n",
      "lpu = LPU(dt, n_dict, s_dict, \n",
      "          input_file='../examples/retina/create_input/retina_inputs.h5',\n",
      "          output_file='simple_output.h5',\n",
      "          port_ctrl=port_ctrl, port_data=port_data,\n",
      "          device=0, id='simple',\n",
      "          debug=True)\n",
      "\n",
      "man = Manager(port_data, port_ctrl)\n",
      "man.add_brok()\n",
      "man.add_mod(lpu)\n",
      "man.start(steps=Nt)\n",
      "man.stop()"
     ],
     "language": "python",
     "metadata": {},
     "outputs": [],
     "prompt_number": 4
    },
    {
     "cell_type": "markdown",
     "metadata": {},
     "source": [
      "The spikes emitted by ``neuron_0`` and the membrane potential of ``neuron_1`` are respectively stored in ``simple_output_spike.h5`` and ``simple_output_gpot.h5``. These can be visualized using a built-in LPU output visualization class that can render the output in video and image format:"
     ]
    },
    {
     "cell_type": "code",
     "collapsed": false,
     "input": [
      "import matplotlib as mpl\n",
      "mpl.use('agg')\n",
      "\n",
      "import neurokernel.LPU.utils.visualizer as vis\n",
      "import networkx as nx\n",
      "\n",
      "# Temporary fix for bug in networkx 1.8:\n",
      "nx.readwrite.gexf.GEXF.convert_bool = {'false':False, 'False':False,\n",
      "                                       'true':True, 'True':True}\n",
      "\n",
      "V = vis.visualizer()\n",
      "\n",
      "V.add_LPU('../examples/retina/create_input/retina_inputs.h5', LPU='Input')\n",
      "V.add_plot({'type': 'waveform', 'ids': [[0]], 'ylim': (-1,10)}, 'input_Input')\n",
      "\n",
      "V.add_LPU('simple_output_gpot.h5',\n",
      "          './simple_lpu.gexf.gz', 'Simple LPU (Graded Potential)')\n",
      "V.add_plot({'type': 'waveform', 'ids': {0:[0]}, 'ylim': (-1, 200)},\n",
      "            'Simple LPU (Graded Potential)', 'Output')\n",
      "\n",
      "V._update_interval = 50\n",
      "V.rows = 3\n",
      "V.cols = 1\n",
      "V.fontsize = 10\n",
      "V.out_filename = 'simple_output.avi'\n",
      "V.codec = 'libtheora'\n",
      "V.dt = 0.0001\n",
      "V.xlim = [0, 1.0]\n",
      "V.figsize = (6, 4)\n",
      "V.run('simple_output.png', 120)"
     ],
     "language": "python",
     "metadata": {},
     "outputs": [],
     "prompt_number": 2
    },
    {
     "cell_type": "markdown",
     "metadata": {},
     "source": [
      "Here is the generated image of the output:"
     ]
    },
    {
     "cell_type": "code",
     "collapsed": false,
     "input": [
      "import IPython.display\n",
      "IPython.display.Image(filename='simple_output.png')"
     ],
     "language": "python",
     "metadata": {},
     "outputs": [
      {
       "metadata": {},
       "output_type": "pyout",
       "png": "[encoded data removed]",
       "prompt_number": 3,
       "text": [
        "<IPython.core.display.Image at 0x3e6cf90>"
       ]
      }
     ],
     "prompt_number": 3
    },
    {
     "cell_type": "markdown",
     "metadata": {},
     "source": [
      "#Project Goals and Timelime#"
     ]
    },
    {
     "cell_type": "markdown",
     "metadata": {},
     "source": [
      "##Phase 2: *April 5th*##\n",
      "\n",
      "At the completion of this phase, we want to have a thorough understanding of the inner workings of the drosophila photoreceptor, and have implemented a biophysically realistic simulation, using the neurokernel framework. In order to expedite our progress on the later phases, we will be implementing this model in pyCUDA.\n",
      "\n",
      "##Phase 3: *April 12th*##\n",
      "\n",
      "Once the previous phase is completed, the simulation of 6,144 photoreceptors will be straightforward, given the CUDA nature of the implementation. The challenge in this step will be researching and implementing the structure of an ommatidia model, as the integration of the photoreceptors isn't covered by the provided papers.\n",
      "\n",
      "##Phase 4: *April 19th*##\n",
      "\n",
      "Once we have our model of the ommatidia and photoreceptors in hand, performing a simulation for testing purposes will be straightforward. Demonstrating the transformation taking place in the retina will be a greater challenge, due to the difficulty of recovering the input signal from the output of the retina (as it's simulated by a variant of Monte-Carlo simulation). However, we can apply similar techniques to those used in the Song et al. 2012 paper, by matching the response patterns of our retinal simulation to those found both in *in vivo* models, and those generated by the Song et al. simulations (refer to Fig. 5 of afore mentioned paper).\n",
      "\n",
      "##Phase 5: *April 26th*##\n",
      "\n",
      "As the lamina simulation is already prepared, our primary challenge will be in expansion of the graded potential synapse, and in our demonstration of the transformation taking place in the lamina. We can do this through testing that the L1 and L2 pathways encode motion stimuli of opposite polarity, and that L3 encodes orientation. Should these assumptions hold given modifications of the input stimuli, we can say at the gross qualitative level that our simulation mimics the behavior of *in vivo* models."
     ]
    }
   ],
   "metadata": {}
  }
 ]
}