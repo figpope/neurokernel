{
 "metadata": {
  "name": ""
 },
 "nbformat": 3,
 "nbformat_minor": 0,
 "worksheets": [
  {
   "cells": [
    {
     "cell_type": "code",
     "collapsed": false,
     "input": [
      "ls"
     ],
     "language": "python",
     "metadata": {},
     "outputs": [
      {
       "output_type": "stream",
       "stream": "stdout",
       "text": [
        "\u001b[0m\u001b[01;34mfiles\u001b[0m/                olfaction.ipynb            \u001b[01;35msimple_output.avi\u001b[0m\r\n",
        "generic.ipynb         phase_2.ipynb              simple_output_gpot.h5\r\n",
        "hhn_demo-Copy0.ipynb  \u001b[01;34mphotoreceptor\u001b[0m/             \u001b[01;35msimple_output.png\u001b[0m\r\n",
        "hhn_demo-Copy1.ipynb  Photoreceptor Tests.ipynb  simple_output_spike.h5\r\n",
        "hhn_demo.ipynb        Photoreceptor Tests.py     test_iterate_microvilli.py\r\n",
        "intro.ipynb           retina-demo.ipynb          test.py\r\n",
        "lamina.ipynb          sensory_int.ipynb          Untitled0.ipynb\r\n",
        "multi.ipynb           simple_input.h5            variable_dt_model.py\r\n",
        "observe               \u001b[01;31msimple_lpu.gexf.gz\u001b[0m         vision.ipynb\r\n"
       ]
      }
     ],
     "prompt_number": 1
    },
    {
     "cell_type": "code",
     "collapsed": false,
     "input": [
      "f = open('observe', 'r')"
     ],
     "language": "python",
     "metadata": {},
     "outputs": [],
     "prompt_number": 3
    },
    {
     "cell_type": "code",
     "collapsed": false,
     "input": [
      "print"
     ],
     "language": "python",
     "metadata": {},
     "outputs": [
      {
       "output_type": "stream",
       "stream": "stdout",
       "text": [
        "<open file 'observe', mode 'r' at 0x1595c90>\n"
       ]
      }
     ],
     "prompt_number": 4
    }
   ],
   "metadata": {}
  }
 ]
}