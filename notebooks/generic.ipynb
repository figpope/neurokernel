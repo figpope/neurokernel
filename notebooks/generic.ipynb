{
 "nbformat": 3,
 "nbformat_minor": 0,
 "worksheets": [
  {
   "cells": [
    {
     "source": [
      "Generic Sensory LPU Demo"
     ],
     "cell_type": "heading",
     "metadata": {},
     "level": 1
    },
    {
     "source": [
      "This notebook illustrates how to simulate a generic LPU with input from sensory neurons. The generic LPU considered in this example serves as a template of LPU design, and can be extended to other sensory modulaties such as olfaction and vision systems. "
     ],
     "cell_type": "markdown",
     "metadata": {}
    },
    {
     "source": [
      "Configuration"
     ],
     "cell_type": "heading",
     "metadata": {},
     "level": 4
    },
    {
     "source": [
      "The generic LPU comprises two populations of neurons: local neurons and output neurons [(Chiang et al., 2011)](#chiang_three-dimensional_2011). In order to provide input into the LPU, we include sensory neurons in this demo. These sensory neurons are driven by an artificial input stimulus. The overall structure of the model is depicted as follows:"
     ],
     "cell_type": "markdown",
     "metadata": {}
    },
    {
     "source": [
      "<img src='files/files/generic_lpu.png' />"
     ],
     "cell_type": "markdown",
     "metadata": {}
    },
    {
     "source": [
      "The generic LPU employed in this example is randomly generated; between 30 and 40 neurons are included in each population. The sensory neurons and ouput neurons are modeled using the Leaky Integrate-and-Fire (LIF) neuron model, while each of the local neurons is modeled either as a spiking neuron using the LIF model or a graded potential neuron using the Morris-Lecar model. The synapses across each pairs of neuron populations are also created randomly. Roughly half of the pairs of neurons in the LPU are connected. We run the following code to generate the LPU configuration and the input stimulus:"
     ],
     "cell_type": "markdown",
     "metadata": {}
    },
    {
     "cell_type": "code",
     "language": "python",
     "outputs": [],
     "collapsed": false,
     "prompt_number": 1,
     "input": [
      "%cd -q ~/neurokernel/examples/generic_lpu/data\n",
      "%run create_generic_lpu.py"
     ],
     "metadata": {}
    },
    {
     "source": [
      "Simulation"
     ],
     "cell_type": "heading",
     "metadata": {},
     "level": 4
    },
    {
     "source": [
      "Once the configuration and the input stimulus are ready, we execute the entire model:"
     ],
     "cell_type": "markdown",
     "metadata": {}
    },
    {
     "cell_type": "code",
     "language": "python",
     "outputs": [],
     "collapsed": false,
     "prompt_number": 2,
     "input": [
      "%cd -q ~/neurokernel/examples/generic_lpu\n",
      "%run generic_demo.py"
     ],
     "metadata": {}
    },
    {
     "source": [
      "Visualizing Result"
     ],
     "cell_type": "heading",
     "metadata": {},
     "level": 4
    },
    {
     "source": [
      "Next, we render the simulation output to a video clip:"
     ],
     "cell_type": "markdown",
     "metadata": {}
    },
    {
     "cell_type": "code",
     "language": "python",
     "outputs": [],
     "collapsed": false,
     "prompt_number": 3,
     "input": [
      "%run visualize_output.py"
     ],
     "metadata": {}
    },
    {
     "source": [
      "The resulting video can be viewed below:"
     ],
     "cell_type": "markdown",
     "metadata": {}
    },
    {
     "cell_type": "code",
     "language": "python",
     "outputs": [
      {
       "output_type": "pyout",
       "html": [
        "\n",
        "            <iframe\n",
        "                width=\"400\"\n",
        "                height=\"300\"\n",
        "                src=\"http://www.youtube.com/embed/gIEchSQvffk\"\n",
        "                frameborder=\"0\"\n",
        "                allowfullscreen\n",
        "            ></iframe>\n",
        "        "
       ],
       "text": [
        "<IPython.lib.display.YouTubeVideo at 0x2abbcd0>"
       ],
       "prompt_number": 4
      }
     ],
     "collapsed": false,
     "prompt_number": 4,
     "input": [
      "IPython.display.YouTubeVideo('gIEchSQvffk')"
     ],
     "metadata": {}
    },
    {
     "source": [
      "Reference"
     ],
     "cell_type": "heading",
     "metadata": {},
     "level": 4
    },
    {
     "source": [
      "<a name=\"chiang_three-dimensional_2011\"></a> Ann-Shyn Chiang, Chih-Yung Lin, Chao-Chun Chuang, Hsiu-Ming Chang, Chang- Huain Hsieh, Chang-Wei Yeh, Chi-Tin Shih, Jian-Jheng Wu, Guo-Tzau Wang, and Yung-Chang Chen. Three-dimensional reconstruction of brain-wide wiring networks in Drosophila at single-cell resolution. Current Biology, 21(1):1\u201311, January 2011."
     ],
     "cell_type": "markdown",
     "metadata": {}
    }
   ],
   "metadata": {}
  }
 ],
 "metadata": {
  "name": ""
 }
}