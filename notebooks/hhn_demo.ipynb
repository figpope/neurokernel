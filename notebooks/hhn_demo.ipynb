{
 "metadata": {
  "name": ""
 },
 "nbformat": 3,
 "nbformat_minor": 0,
 "worksheets": [
  {
   "cells": [
    {
     "cell_type": "heading",
     "level": 1,
     "metadata": {},
     "source": [
      "Hodgkin-Huxley Neuron Model Demonstration"
     ]
    },
    {
     "cell_type": "heading",
     "level": 3,
     "metadata": {},
     "source": [
      "A Simple Example: Creating an LPU"
     ]
    },
    {
     "cell_type": "markdown",
     "metadata": {},
     "source": [
      "We first define our network, including the base condition of a starting voltage of -10 for the HHN."
     ]
    },
    {
     "cell_type": "code",
     "collapsed": false,
     "input": [
      "import numpy as np\n",
      "import networkx as nx\n",
      "\n",
      "G = nx.DiGraph() # or nx.MultiDiGraph()\n",
      "G.add_nodes_from([0, 1])\n",
      "start_voltage = -10\n",
      "G.node[0] = {\n",
      "    'model': 'HodgkinHuxley',\n",
      "    'name': 'neuron_0',\n",
      "    'extern': True,   # indicates whether the neuron can receive an external input signal\n",
      "    'public': True,   # indicates whether the neuron can emit output to other LPUs \n",
      "    'spiking': True,  # indicates whether the neuron's output is spikes or its membrane voltage\n",
      "    'V': start_voltage, # initial membrane voltage\n",
      "    'V_prev': start_voltage,\n",
      "    'X_1': 0.0,\n",
      "    'X_2': 0.0,\n",
      "    'X_3': 1.0}\n",
      "G.node[1] = {\n",
      "    'model': \"MorrisLecar\",\n",
      "    'name': 'neuron_1',\n",
      "    'extern': False,\n",
      "    'public': True,\n",
      "    'spiking': False,\n",
      "    'V1': 0.03,\n",
      "    'V2': 0.015,\n",
      "    'V3': 0,\n",
      "    'V4': 0.03,\n",
      "    'phi': 0.025,\n",
      "    'offset': 0,\n",
      "    'initV': -0.05214,\n",
      "    'initn': 0.03}\n",
      "G.add_edge(0, 1, type='directed', attr_dict={\n",
      "    'model': 'AlphaSynapse',\n",
      "    'name': 'synapse_0_1',\n",
      "    'class': 0,           # 0 = spike->spike, 1 = spike->gpot, 2 = 'gpot->spike', 3 = 'gpot->gpot'\n",
      "    'ar': 1.1*1e2,        # decay rate\n",
      "    'ad': 1.9*1e3,        # rise rate\n",
      "    'reverse': 65*1e-3,   #\n",
      "    'gmax': 2*1e-3,       # maximum conductance\n",
      "    'conductance': True}) # indicates whether the synapse's output is a conductance or current\n",
      "nx.write_gexf(G, 'simple_lpu.gexf.gz')"
     ],
     "language": "python",
     "metadata": {},
     "outputs": [],
     "prompt_number": 1
    },
    {
     "cell_type": "markdown",
     "metadata": {},
     "source": [
      "We then prepare a simple pulse input and save it in an HDF5 file to pass to ``neuron_0`` as follows:"
     ]
    },
    {
     "cell_type": "code",
     "collapsed": false,
     "input": [
      "import h5py\n",
      "\n",
      "dt = 1e-5           # time resolution of model execution in seconds\n",
      "dur = 0.2           # duration in seconds\n",
      "Nt = int(dur/dt)    # number of data points in time\n",
      "\n",
      "start = 0.05\n",
      "stop = 0.15\n",
      "\n",
      "I_max = 9.5\n",
      "t = np.arange(0, dt*Nt, dt)\n",
      "I = np.zeros((Nt, 1), dtype=np.double)\n",
      "I[np.logical_and(t>start, t<stop)] = I_max\n",
      "\n",
      "with h5py.File('simple_input.h5', 'w') as f:\n",
      "    f.create_dataset('array', (Nt, 1),\n",
      "                     dtype=np.double,\n",
      "                     data=I)"
     ],
     "language": "python",
     "metadata": {},
     "outputs": [],
     "prompt_number": 2
    },
    {
     "cell_type": "markdown",
     "metadata": {},
     "source": [
      "The LPU defined earlier can be instantiated and executed as follows:"
     ]
    },
    {
     "cell_type": "code",
     "collapsed": false,
     "input": [
      "from neurokernel.core import Manager\n",
      "from neurokernel.LPU.LPU import LPU\n",
      "from neurokernel.tools.comm import get_random_port\n",
      "\n",
      "port_data = get_random_port()\n",
      "port_ctrl = get_random_port()\n",
      "\n",
      "(n_dict, s_dict) = LPU.lpu_parser('simple_lpu.gexf.gz')\n",
      "lpu = LPU(dt, n_dict, s_dict, \n",
      "          input_file='simple_input.h5',\n",
      "          output_file='simple_output.h5',\n",
      "          port_ctrl=port_ctrl, port_data=port_data,\n",
      "          device=0, id='simple',\n",
      "          debug=False)\n",
      "\n",
      "man = Manager(port_data, port_ctrl)\n",
      "man.add_brok()\n",
      "man.add_mod(lpu)\n",
      "man.start(steps=Nt)\n",
      "man.stop()"
     ],
     "language": "python",
     "metadata": {},
     "outputs": [
      {
       "output_type": "stream",
       "stream": "stderr",
       "text": [
        "/home/hanyu/NK/local/lib/python2.7/site-packages/neurokernel-0.1-py2.7.egg/neurokernel/LPU/LPU.py:766: UserWarning: The CUDA compiler succeeded, but said the following:\n",
        "ptxas info    : 0 bytes gmem\n",
        "ptxas info    : Compiling entry function 'extract_projection' for 'sm_20'\n",
        "ptxas info    : Function properties for extract_projection\n",
        "    0 bytes stack frame, 0 bytes spill stores, 0 bytes spill loads\n",
        "ptxas info    : Used 12 registers, 60 bytes cmem[0]\n",
        "\n",
        "  mod = SourceModule(template % {\"type\": dtype_to_ctype(self.V.dtype)}, options = [\"--ptxas-options=-v\"])\n",
        "/home/hanyu/NK/local/lib/python2.7/site-packages/neurokernel-0.1-py2.7.egg/neurokernel/LPU/LPU.py:792: UserWarning: The CUDA compiler succeeded, but said the following:\n",
        "ptxas info    : 0 bytes gmem\n",
        "ptxas info    : Compiling entry function 'extract_projection' for 'sm_20'\n",
        "ptxas info    : Function properties for extract_projection\n",
        "    0 bytes stack frame, 0 bytes spill stores, 0 bytes spill loads\n",
        "ptxas info    : Used 11 registers, 60 bytes cmem[0]\n",
        "\n",
        "  mod = SourceModule(template % {\"type\": dtype_to_ctype(self.spike_state.dtype)}, options = [\"--ptxas-options=-v\"])\n",
        "/home/hanyu/NK/local/lib/python2.7/site-packages/neurokernel-0.1-py2.7.egg/neurokernel/LPU/neurons/baseneuron.py:243: UserWarning: The CUDA compiler succeeded, but said the following:\n",
        "ptxas info    : 0 bytes gmem\n",
        "ptxas info    : Compiling entry function 'get_input' for 'sm_20'\n",
        "ptxas info    : Function properties for get_input\n",
        "    0 bytes stack frame, 0 bytes spill stores, 0 bytes spill loads\n",
        "ptxas info    : Used 23 registers, 8960 bytes smem, 88 bytes cmem[0]\n",
        "\n",
        "  mod = SourceModule(template % {\"num_neurons\": self._num_neurons}, options = [\"--ptxas-options=-v\"])\n",
        "/home/hanyu/NK/local/lib/python2.7/site-packages/neurokernel-0.1-py2.7.egg/neurokernel/LPU/neurons/baseneuron.py:336: UserWarning: The CUDA compiler succeeded, but said the following:\n",
        "ptxas info    : 0 bytes gmem\n",
        "ptxas info    : Compiling entry function 'get_input' for 'sm_20'\n",
        "ptxas info    : Function properties for get_input\n",
        "    0 bytes stack frame, 0 bytes spill stores, 0 bytes spill loads\n",
        "ptxas info    : Used 19 registers, 8704 bytes smem, 72 bytes cmem[0]\n",
        "\n",
        "  mod = SourceModule(template % {\"num_neurons\": self._num_neurons}, options = [\"--ptxas-options=-v\"])\n",
        "/home/hanyu/NK/local/lib/python2.7/site-packages/neurokernel-0.1-py2.7.egg/neurokernel/LPU/neurons/HodgkinHuxley.py:86: UserWarning: The CUDA compiler succeeded, but said the following:\n",
        "ptxas info    : 0 bytes gmem\n",
        "ptxas info    : Compiling entry function 'hhn_model' for 'sm_20'\n",
        "ptxas info    : Function properties for hhn_model\n",
        "    0 bytes stack frame, 0 bytes spill stores, 0 bytes spill loads\n",
        "ptxas info    : Used 29 registers, 104 bytes cmem[0], 56 bytes cmem[16]\n",
        "\n",
        "  mod = SourceModule(template % {\"type\": dtype_to_ctype(dtype),  \"nneu\": self.update_block[0]}, options=[\"--ptxas-options=-v\"])\n",
        "/home/hanyu/NK/local/lib/python2.7/site-packages/neurokernel-0.1-py2.7.egg/neurokernel/LPU/neurons/MorrisLecar.py:115: UserWarning: The CUDA compiler succeeded, but said the following:\n",
        "ptxas info    : 0 bytes gmem\n",
        "ptxas info    : Compiling entry function 'hhn_euler_multiple' for 'sm_20'\n",
        "ptxas info    : Function properties for hhn_euler_multiple\n",
        "    0 bytes stack frame, 0 bytes spill stores, 0 bytes spill loads\n",
        "ptxas info    : Used 32 registers, 128 bytes cmem[0], 24 bytes cmem[16]\n",
        "\n",
        "  mod = SourceModule(template % {\"type\": dtype_to_ctype(dtype),  \"nneu\": self.update_block[0]}, options=[\"--ptxas-options=-v\"])\n",
        "/home/hanyu/NK/local/lib/python2.7/site-packages/neurokernel-0.1-py2.7.egg/neurokernel/LPU/synapses/AlphaSynapse.py:102: UserWarning: The CUDA compiler succeeded, but said the following:\n",
        "ptxas info    : 0 bytes gmem\n",
        "ptxas info    : Compiling entry function 'alpha_synapse' for 'sm_20'\n",
        "ptxas info    : Function properties for alpha_synapse\n",
        "    0 bytes stack frame, 0 bytes spill stores, 0 bytes spill loads\n",
        "ptxas info    : Used 27 registers, 120 bytes cmem[0]\n",
        "\n",
        "  options=[\"--ptxas-options=-v\"])\n",
        "/home/hanyu/NK/local/lib/python2.7/site-packages/neurokernel-0.1-py2.7.egg/neurokernel/LPU/utils/kernel_utils.py:133: UserWarning: The CUDA compiler succeeded, but said the following:\n",
        "ptxas info    : 0 bytes gmem, 296 bytes cmem[2]\n",
        "ptxas info    : Compiling entry function 'fill' for 'sm_20'\n",
        "ptxas info    : Function properties for fill\n",
        "    0 bytes stack frame, 0 bytes spill stores, 0 bytes spill loads\n",
        "ptxas info    : Used 8 registers, 52 bytes cmem[0]\n",
        "\n",
        "  mod = SourceModule(source, options = options, keep = keep, no_extern_c= no_extern_c, arch=arch, code=code, cache_dir=cache_dir)\n"
       ]
      }
     ],
     "prompt_number": 3
    },
    {
     "cell_type": "markdown",
     "metadata": {},
     "source": [
      "The spikes emitted by ``neuron_0`` and the membrane potential of ``neuron_1`` are respectively stored in ``simple_output_spike.h5`` and ``simple_output_gpot.h5``. These can be visualized using a built-in LPU output visualization class that can render the output in video and image format:"
     ]
    },
    {
     "cell_type": "code",
     "collapsed": false,
     "input": [
      "import matplotlib as mpl\n",
      "mpl.use('agg')\n",
      "\n",
      "import neurokernel.LPU.utils.visualizer as vis\n",
      "import networkx as nx\n",
      "\n",
      "# Temporary fix for bug in networkx 1.8:\n",
      "nx.readwrite.gexf.GEXF.convert_bool = {'false':False, 'False':False,\n",
      "                                       'true':True, 'True':True}\n",
      "\n",
      "V = vis.visualizer()\n",
      "\n",
      "V.add_LPU('simple_input.h5', LPU='Input')\n",
      "V.add_plot({'type': 'waveform', 'ids': [[0]], 'ylim': (-1,10)}, 'input_Input')\n",
      "\n",
      "V.add_LPU('simple_output_spike.h5',\n",
      "          './simple_lpu.gexf.gz', 'Simple LPU (Spikes)')\n",
      "V.add_plot({'type':'raster', 'ids': {0:[0]},\n",
      "            'yticks': [0], 'yticklabels': [0]}, \n",
      "            'Simple LPU (Spikes)','Output')\n",
      "V.add_LPU('simple_output_gpot.h5',\n",
      "          './simple_lpu.gexf.gz', 'Simple LPU (Graded Potential)')\n",
      "V.add_plot({'type': 'waveform', 'ids': {0:[0]}},\n",
      "            'Simple LPU (Graded Potential)', 'Output')\n",
      "\n",
      "V._update_interval = 50\n",
      "V.rows = 3\n",
      "V.cols = 1\n",
      "V.fontsize = 10\n",
      "V.out_filename = 'simple_output.avi'\n",
      "V.codec = 'libtheora'\n",
      "V.dt = 0.0001\n",
      "V.xlim = [0, 1.0]\n",
      "V.figsize = (6, 4)\n",
      "V.run('simple_output.png', 120)"
     ],
     "language": "python",
     "metadata": {},
     "outputs": [],
     "prompt_number": 4
    },
    {
     "cell_type": "markdown",
     "metadata": {},
     "source": [
      "Here is the generated image of the output:"
     ]
    },
    {
     "cell_type": "code",
     "collapsed": false,
     "input": [
      "import IPython.display\n",
      "IPython.display.Image(filename='simple_output.png')"
     ],
     "language": "python",
     "metadata": {},
     "outputs": [
      {
       "metadata": {},
       "output_type": "pyout",
       "png": "[encoded data removed]",
       "prompt_number": 5,
       "text": [
        "<IPython.core.display.Image at 0x2b1e8d0>"
       ]
      }
     ],
     "prompt_number": 5
    },
    {
     "cell_type": "markdown",
     "metadata": {},
     "source": [
      "#Project Goals and Timelime#"
     ]
    },
    {
     "cell_type": "markdown",
     "metadata": {},
     "source": [
      "##Phase 2: *April 5th*##\n",
      "\n",
      "At the completion of this phase, we want to have a thorough understanding of the inner workings of the drosophila photoreceptor, and have implemented a biophysically realistic simulation, using the neurokernel framework. In order to expedite our progress on the later phases, we will be implementing this model in pyCUDA.\n",
      "\n",
      "##Phase 3: *April 12th*##\n",
      "\n",
      "Once the previous phase is completed, the simulation of 6,144 photoreceptors will be straightforward, given the CUDA nature of the implementation. The challenge in this step will be researching and implementing the structure of an ommatidia model, as the integration of the photoreceptors isn't covered by the provided papers.\n",
      "\n",
      "##Phase 4: *April 19th*##\n",
      "\n",
      "Once we have our model of the ommatidia and photoreceptors in hand, performing a simulation for testing purposes will be straightforward. Demonstrating the transformation taking place in the retina will be a greater challenge, due to the difficulty of recovering the input signal from the output of the retina (as it's simulated by a variant of Monte-Carlo simulation). However, we can apply similar techniques to those used in the Song et al. 2012 paper, by matching the response patterns of our retinal simulation to those found both in *in vivo* models, and those generated by the Song et al. simulations (refer to Fig. 5 of afore mentioned paper).\n",
      "\n",
      "##Phase 5: *April 26th*##\n",
      "\n",
      "As the lamina simulation is already prepared, our primary challenge will be in expansion of the graded potential synapse, and in our demonstration of the transformation taking place in the lamina. We can do this through testing that the L1 and L2 pathways encode motion stimuli of opposite polarity, and that L3 encodes orientation. Should these assumptions hold given modifications of the input stimuli, we can say at the gross qualitative level that our simulation mimics the behavior of *in vivo* models."
     ]
    }
   ],
   "metadata": {}
  }
 ]
}