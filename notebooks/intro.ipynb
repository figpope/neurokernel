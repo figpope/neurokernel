{
 "nbformat": 3,
 "nbformat_minor": 0,
 "worksheets": [
  {
   "cells": [
    {
     "source": [
      "Introduction to Neurokernel's API"
     ],
     "cell_type": "heading",
     "metadata": {},
     "level": 1
    },
    {
     "source": [
      "This notebook illustrates how to define and connect local processing unit (LPU) models using Neurokernel."
     ],
     "cell_type": "markdown",
     "metadata": {}
    },
    {
     "source": [
      "Background"
     ],
     "cell_type": "heading",
     "metadata": {},
     "level": 3
    },
    {
     "source": [
      "An LPU comprises two distinct populations of neurons [(Chiang et al., 2011)](#chiang_three-dimensional_2011): *local* neurons may only project to other neurons in the LPU, while *projection* neurons may project both to local neurons and neurons in other LPUs. All synapses between neurons are defined within *internal connectivity* tensors. LPUs are linked by *inter-LPU connectivity* tensors that map one LPU's outputs to inputs in other LPUs. The general structure of an LPU is shown below:"
     ],
     "cell_type": "markdown",
     "metadata": {}
    },
    {
     "source": [
      "<img src='files/files/generic-lpus.jpg' />"
     ],
     "cell_type": "markdown",
     "metadata": {}
    },
    {
     "source": [
      "Using Neurokernel's API"
     ],
     "cell_type": "heading",
     "metadata": {},
     "level": 3
    },
    {
     "source": [
      "Neurokernel provides Python classes for defining LPUs and connectivity patterns that can be used to link them together. These classes require an LPU designer to implement all of the LPU's internals from the ground up; no explicit constraints are placed upon how the LPU uses GPU resources. In order to enable independently implemented LPUs to communicate with each other, each LPU must implement a method called ``run_step()`` called during each step of execution that consumes incoming data from other LPUs and produces data for transmission to other LPUs:"
     ],
     "cell_type": "markdown",
     "metadata": {}
    },
    {
     "cell_type": "code",
     "language": "python",
     "outputs": [],
     "collapsed": false,
     "prompt_number": 1,
     "input": [
      "from neurokernel.core import Module\n",
      "\n",
      "class MyModule(Module):\n",
      "    def __init__(self, N_gpot, N_spike, \n",
      "                 port_data, port_ctrl, \n",
      "                 id=None, device=None):\n",
      "        super(MyModule, self).__init__(port_data, port_ctrl, id, device)\n",
      "        self.gpot_data = np.zeros(N_gpot, np.double)\n",
      "        self.spike_data = np.zeros(N_spike, int)\n",
      "\n",
      "    # Numbers of graded potential and spiking ports:\n",
      "    @property\n",
      "    def N_gpot(self): \n",
      "        return len(self.gpot_data)\n",
      "    @property\n",
      "    def N_spike(self):\n",
      "        return len(self.spike_data)\n",
      "\n",
      "    # Process incoming data and set outgoing data:\n",
      "    def run_step(self, in_gpot_dict, in_spike_dict, \n",
      "                 out_gpot, out_spike):       \n",
      "        super(MyModule, self).run_step(in_gpot_dict, in_spike_dict, \n",
      "                                       out_gpot, out_spike)\n",
      "\n",
      "        # Use incoming data from `in_gpot_dict` and \n",
      "        # `in_spike_dict` to compute presynaptic inputs to internal neurons:\n",
      "        # ...\n",
      "\n",
      "        # Set contents of `out_gpot` and `out_spike` \n",
      "        # using updated projection neuron states:\n",
      "        # ... "
     ],
     "metadata": {}
    },
    {
     "source": [
      "Notice that every LPU instance must be associated with a unique identifier (``id``). The ``in_gpot_dict`` and ``in_spike_dict`` dictionaries respectively map the identifiers of source LPUs to data they have transmitted to the LPU in question; the values of the former are arrays of membrane potentials of source graded potential neurons, while the values of the latter are the identifiers (i.e., indices) of source spiking neurons that have emitted a spike during the last execution step. Similarly, the ``out_gpot`` and ``out_spike`` dictionaries contain arrays of graded potential and spiking neuron data to transmit to destination LPUs."
     ],
     "cell_type": "markdown",
     "metadata": {}
    },
    {
     "source": [
      "One can instantiate the above LPU class as follows: "
     ],
     "cell_type": "markdown",
     "metadata": {}
    },
    {
     "cell_type": "code",
     "language": "python",
     "outputs": [],
     "collapsed": false,
     "prompt_number": 2,
     "input": [
      "from neurokernel.tools.comm import get_random_port\n",
      "\n",
      "port_data = get_random_port()\n",
      "port_ctrl = get_random_port()\n",
      "\n",
      "m0 = MyModule(2, 4, port_data, port_ctrl)\n",
      "m1 = MyModule(5, 10, port_data, port_ctrl)"
     ],
     "metadata": {}
    },
    {
     "source": [
      "Assuming that ``m0`` and ``m1`` are instances of an LPU class defined similar to the above, connectivity patterns between the two LPUs can be defined as follows; this code defines connections between all neurons in one LPU to all neurons in the other LPU. Note that the connectivity pattern is only compatible with LPUs that expose the supported number of publicly accessible neurons."
     ],
     "cell_type": "markdown",
     "metadata": {}
    },
    {
     "cell_type": "code",
     "language": "python",
     "outputs": [],
     "collapsed": false,
     "prompt_number": 3,
     "input": [
      "import numpy as np\n",
      "from neurokernel.core import Connectivity\n",
      "\n",
      "conn = Connectivity(m0.N_gpot, m0.N_spike, \n",
      "                    m1.N_gpot, m1.N_spike, 1, \n",
      "                    m0.id, m1.id)\n",
      "conn[m0.id, 'all', :, m1.id, 'all', :] = \\\n",
      "    np.ones((m0.N_gpot+m0.N_spike,\n",
      "             m1.N_gpot+m1.N_spike))"
     ],
     "metadata": {}
    },
    {
     "source": [
      "A Simple Example: Creating an LPU"
     ],
     "cell_type": "heading",
     "metadata": {},
     "level": 3
    },
    {
     "source": [
      "In addition to the skeleton ``neurokernel.core.Module`` class, Neurokernel also contains an example of a functional LPU class (``neurokernel.LPU.LPU.LPU``) that supports the following neuron and synapse models:\n",
      "\n",
      "* Leaky Integrate-and-Fire (LIF) neuron (spiking neuron)\n",
      "* Morris-Lecar (ML) neuron (graded potential neuron), \n",
      "* Alpha function synapse\n",
      "* Conductance-based synapse (referred to as ``power_gpot_gpot``).  \n",
      "\n",
      "Note that although the ML model can in principle be configured as a spiking neuron model, the implementation in the LPU class is configured to output its membrane potential.\n",
      "\n",
      "Alpha function synapses may be used to connect any type of presynaptic neuron to any type of of postsynaptic neuron; the neuron presynaptic to a conductance-based synapse must be a graded potential neuron.\n",
      "\n",
      "It should be emphasized that the above LPU implementation and the currently support models are not necessarily optimal and will probably be replaced with improved implementations in the future."
     ],
     "cell_type": "markdown",
     "metadata": {}
    },
    {
     "source": [
      "LPUs are currently specified as graphs using the [GEXF](http://gexf.net) file format, where nodes and edges correspond to neuron and synapse model instances. To facilitate construction of an LPU, the [networkx](http://networkx.github.io) Python package may be used to set the parameters of the model instances. For example, the following code defines a simple network consisting of an LIF neuron with a single synaptic connection to an ML neuron; the synaptic current elicited by the LIF neuron's spikes is modeled by an alpha function:"
     ],
     "cell_type": "markdown",
     "metadata": {}
    },
    {
     "cell_type": "code",
     "language": "python",
     "outputs": [],
     "collapsed": false,
     "prompt_number": 4,
     "input": [
      "import numpy as np\n",
      "import networkx as nx\n",
      "\n",
      "G = nx.DiGraph() # or nx.MultiDiGraph()\n",
      "G.add_nodes_from([0, 1])\n",
      "G.node[0] = {\n",
      "    'model': 'LeakyIAF',\n",
      "    'name': 'neuron_0',\n",
      "    'extern': True,   # indicates whether the neuron can receive an external input signal\n",
      "    'public': True,  # indicates whether the neuron can emit output to other LPUs \n",
      "    'spiking': True, # indicates whether the neuron's output is spikes or its membrane voltage\n",
      "    'V': np.random.uniform(-0.06, -0.025), # initial membrane voltage\n",
      "    'Vr': -0.0675489770451,                # reset voltage\n",
      "    'Vt': -0.0251355161007,                # spike threshold\n",
      "    'R': 1.02445570216,                    # membrane resistance\n",
      "    'C': 0.0669810502993}                  # membrane capacitance\n",
      "G.node[1] = {\n",
      "    'model': \"MorrisLecar\",\n",
      "    'name': 'neuron_1',\n",
      "    'extern': False,\n",
      "    'public': True,\n",
      "    'spiking': False,\n",
      "    'V1': 0.03,\n",
      "    'V2': 0.015,\n",
      "    'V3': 0,\n",
      "    'V4': 0.03,\n",
      "    'phi': 0.025,\n",
      "    'offset': 0,\n",
      "    'initV': -0.05214,\n",
      "    'initn': 0.03}\n",
      "G.add_edge(0, 1, type='directed', attr_dict={\n",
      "    'model': 'AlphaSynapse',\n",
      "    'name': 'synapse_0_1',\n",
      "    'class': 0,           # 0 = spike->spike, 1 = spike->gpot, 2 = 'gpot->spike', 3 = 'gpot->gpot'\n",
      "    'ar': 1.1*1e2,        # decay rate\n",
      "    'ad': 1.9*1e3,        # rise rate\n",
      "    'reverse': 65*1e-3,   #\n",
      "    'gmax': 2*1e-3,       # maximum conductance\n",
      "    'conductance': True}) # indicates whether the synapse's output is a conductance or current\n",
      "nx.write_gexf(G, 'simple_lpu.gexf.gz')"
     ],
     "metadata": {}
    },
    {
     "source": [
      "We can prepare a simple pulse input and save it in an HDF5 file to pass to ``neuron_0`` as follows:"
     ],
     "cell_type": "markdown",
     "metadata": {}
    },
    {
     "cell_type": "code",
     "language": "python",
     "outputs": [],
     "collapsed": false,
     "prompt_number": 5,
     "input": [
      "import h5py\n",
      "\n",
      "dt = 1e-4           # time resolution of model execution in seconds\n",
      "dur = 1.0           # duration in seconds\n",
      "Nt = int(dur/dt)    # number of data points in time\n",
      "\n",
      "start = 0.3\n",
      "stop = 0.6\n",
      "\n",
      "I_max = 0.6\n",
      "t = np.arange(0, dt*Nt, dt)\n",
      "I = np.zeros((Nt, 1), dtype=np.double)\n",
      "I[np.logical_and(t>start, t<stop)] = I_max\n",
      "\n",
      "with h5py.File('simple_input.h5', 'w') as f:\n",
      "    f.create_dataset('array', (Nt, 1),\n",
      "                     dtype=np.double,\n",
      "                     data=I)"
     ],
     "metadata": {}
    },
    {
     "source": [
      "The LPU defined earlier can be instantiated and executed as follows:"
     ],
     "cell_type": "markdown",
     "metadata": {}
    },
    {
     "cell_type": "code",
     "language": "python",
     "outputs": [],
     "collapsed": false,
     "prompt_number": 6,
     "input": [
      "from neurokernel.core import Manager\n",
      "from neurokernel.LPU.LPU import LPU\n",
      "from neurokernel.tools.comm import get_random_port\n",
      "\n",
      "port_data = get_random_port()\n",
      "port_ctrl = get_random_port()\n",
      "\n",
      "(n_dict, s_dict) = LPU.lpu_parser('simple_lpu.gexf.gz')\n",
      "lpu = LPU(dt, n_dict, s_dict, \n",
      "          input_file='simple_input.h5',\n",
      "          output_file='simple_output.h5',\n",
      "          port_ctrl=port_ctrl, port_data=port_data,\n",
      "          device=0, id='simple',\n",
      "          debug=False)\n",
      "\n",
      "man = Manager(port_data, port_ctrl)\n",
      "man.add_brok()\n",
      "man.add_mod(lpu)\n",
      "man.start(steps=Nt)\n",
      "man.stop()"
     ],
     "metadata": {}
    },
    {
     "source": [
      "The spikes emitted by ``neuron_0`` and the membrane potential of ``neuron_1`` are respectively stored in ``simple_output_spike.h5`` and ``simple_output_gpot.h5``. These can be visualized using a built-in LPU output visualization class that can render the output in video and image format:"
     ],
     "cell_type": "markdown",
     "metadata": {}
    },
    {
     "cell_type": "code",
     "language": "python",
     "outputs": [],
     "collapsed": false,
     "prompt_number": 7,
     "input": [
      "import matplotlib as mpl\n",
      "mpl.use('agg')\n",
      "\n",
      "import neurokernel.LPU.utils.visualizer as vis\n",
      "import networkx as nx\n",
      "\n",
      "# Temporary fix for bug in networkx 1.8:\n",
      "nx.readwrite.gexf.GEXF.convert_bool = {'false':False, 'False':False,\n",
      "                                       'true':True, 'True':True}\n",
      "\n",
      "V = vis.visualizer()\n",
      "\n",
      "V.add_LPU('simple_input.h5', LPU='Input')\n",
      "V.add_plot({'type': 'waveform', 'ids': [[0]]}, 'input_Input')\n",
      "\n",
      "V.add_LPU('simple_output_spike.h5',\n",
      "          './simple_lpu.gexf.gz', 'Simple LPU (Spikes)')\n",
      "V.add_plot({'type':'raster', 'ids': {0:[0]},\n",
      "            'yticks': [0], 'yticklabels': [0]},\n",
      "            'Simple LPU (Spikes)','Output')\n",
      "V.add_LPU('simple_output_gpot.h5',\n",
      "          './simple_lpu.gexf.gz', 'Simple LPU (Graded Potential)')\n",
      "V.add_plot({'type': 'waveform', 'ids': {0:[0]}},\n",
      "            'Simple LPU (Graded Potential)', 'Output')\n",
      "\n",
      "V._update_interval = 50\n",
      "V.rows = 3\n",
      "V.cols = 1\n",
      "V.fontsize = 10\n",
      "V.out_filename = 'simple_output.avi'\n",
      "V.codec = 'libtheora'\n",
      "V.dt = 0.0001\n",
      "V.xlim = [0, 1.0]\n",
      "V.figsize = (6, 4)\n",
      "V.run('simple_output.png', 120)\n",
      "\n",
      "# Don't automatically display the output image:\n",
      "plt.close(gcf())"
     ],
     "metadata": {}
    },
    {
     "source": [
      "Here is the generated image of the output:"
     ],
     "cell_type": "markdown",
     "metadata": {}
    },
    {
     "source": [
      "<img src='files/simple_output.png' />"
     ],
     "cell_type": "markdown",
     "metadata": {}
    },
    {
     "source": [
      "A More Complex Example: Connecting LPUs"
     ],
     "cell_type": "heading",
     "metadata": {},
     "level": 3
    },
    {
     "source": [
      "The following example demonstrates the creation and connection of two LPUs containing multiple neurons with a connectivity pattern. The number of neurons and synapses in each of the LPUs' internal populations are randomly generated: the number of neurons in each populations is randomly selected between 30 to 40. The LPUs' projection neurons - as well as populations of input neurons presynaptic to the LPUs that accept an input stimulus - are modeled as LIF neurons, while each of the local neurons is modeled as either an LIF neuron or a graded potential ML neuron. Synaptic currents are modeled with alpha functions. Synapses between the LPU's local and projection neurons, as well as synpases between the input neurons and the LPU's internal neurons, are also created randomly; roughly half of the total number of pairs of neurons are connected. \n",
      "\n",
      "To generate the LPUs and input signals used in this demo, we run the following script:"
     ],
     "cell_type": "markdown",
     "metadata": {}
    },
    {
     "cell_type": "code",
     "language": "python",
     "outputs": [],
     "collapsed": false,
     "prompt_number": 8,
     "input": [
      "%cd -q ~/neurokernel/examples/intro/data\n",
      "%run gen_generic_lpu.py -s 1 generic_lpu_0.gexf.gz generic_input_0.h5\n",
      "%run gen_generic_lpu.py -s 2 generic_lpu_1.gexf.gz generic_input_1.h5"
     ],
     "metadata": {}
    },
    {
     "source": [
      "Since the neurons and synapses in the generated LPUs are stored in GEXF format, they can be easily accessed using networkx and [pandas](http://pandas.pydata.org). Neurokernel provides a convenience function to convert between networkx graphs and pandas' DataFrame class:"
     ],
     "cell_type": "markdown",
     "metadata": {}
    },
    {
     "cell_type": "code",
     "language": "python",
     "outputs": [],
     "collapsed": false,
     "prompt_number": 9,
     "input": [
      "import neurokernel.tools.graph\n",
      "g_0 = nx.read_gexf('generic_lpu_0.gexf.gz')\n",
      "df_neu_0, df_syn_0 = neurokernel.tools.graph.graph_to_df(g_0)"
     ],
     "metadata": {}
    },
    {
     "source": [
      "Say one wishes to explore several LIF neurons in LPU 0. Here is how to access their parameters:"
     ],
     "cell_type": "markdown",
     "metadata": {}
    },
    {
     "cell_type": "code",
     "language": "python",
     "outputs": [
      {
       "output_type": "pyout",
       "html": [
        "<div style=\"max-height:1000px;max-width:1500px;overflow:auto;\">\n",
        "<table border=\"1\" class=\"dataframe\">\n",
        "  <thead>\n",
        "    <tr style=\"text-align: right;\">\n",
        "      <th></th>\n",
        "      <th>name</th>\n",
        "      <th>model</th>\n",
        "      <th>extern</th>\n",
        "      <th>public</th>\n",
        "      <th>spiking</th>\n",
        "      <th>V</th>\n",
        "      <th>Vr</th>\n",
        "      <th>Vt</th>\n",
        "      <th>R</th>\n",
        "      <th>C</th>\n",
        "    </tr>\n",
        "  </thead>\n",
        "  <tbody>\n",
        "    <tr>\n",
        "      <th>72</th>\n",
        "      <td> local_37_s</td>\n",
        "      <td> LeakyIAF</td>\n",
        "      <td> False</td>\n",
        "      <td> False</td>\n",
        "      <td> True</td>\n",
        "      <td>-0.026768</td>\n",
        "      <td>-0.067549</td>\n",
        "      <td>-0.025136</td>\n",
        "      <td> 1.024456</td>\n",
        "      <td> 0.066981</td>\n",
        "    </tr>\n",
        "    <tr>\n",
        "      <th>73</th>\n",
        "      <td> output_0_s</td>\n",
        "      <td> LeakyIAF</td>\n",
        "      <td> False</td>\n",
        "      <td>  True</td>\n",
        "      <td> True</td>\n",
        "      <td>-0.044253</td>\n",
        "      <td>-0.067549</td>\n",
        "      <td>-0.025136</td>\n",
        "      <td> 1.024456</td>\n",
        "      <td> 0.066981</td>\n",
        "    </tr>\n",
        "    <tr>\n",
        "      <th>74</th>\n",
        "      <td> output_1_s</td>\n",
        "      <td> LeakyIAF</td>\n",
        "      <td> False</td>\n",
        "      <td>  True</td>\n",
        "      <td> True</td>\n",
        "      <td>-0.039756</td>\n",
        "      <td>-0.067549</td>\n",
        "      <td>-0.025136</td>\n",
        "      <td> 1.024456</td>\n",
        "      <td> 0.066981</td>\n",
        "    </tr>\n",
        "    <tr>\n",
        "      <th>75</th>\n",
        "      <td> output_2_s</td>\n",
        "      <td> LeakyIAF</td>\n",
        "      <td> False</td>\n",
        "      <td>  True</td>\n",
        "      <td> True</td>\n",
        "      <td>-0.045715</td>\n",
        "      <td>-0.067549</td>\n",
        "      <td>-0.025136</td>\n",
        "      <td> 1.024456</td>\n",
        "      <td> 0.066981</td>\n",
        "    </tr>\n",
        "    <tr>\n",
        "      <th>76</th>\n",
        "      <td> output_3_s</td>\n",
        "      <td> LeakyIAF</td>\n",
        "      <td> False</td>\n",
        "      <td>  True</td>\n",
        "      <td> True</td>\n",
        "      <td>-0.051704</td>\n",
        "      <td>-0.067549</td>\n",
        "      <td>-0.025136</td>\n",
        "      <td> 1.024456</td>\n",
        "      <td> 0.066981</td>\n",
        "    </tr>\n",
        "  </tbody>\n",
        "</table>\n",
        "<p>5 rows \u00d7 10 columns</p>\n",
        "</div>"
       ],
       "text": [
        "          name     model extern public spiking         V        Vr        Vt  \\\n",
        "72  local_37_s  LeakyIAF  False  False    True -0.026768 -0.067549 -0.025136   \n",
        "73  output_0_s  LeakyIAF  False   True    True -0.044253 -0.067549 -0.025136   \n",
        "74  output_1_s  LeakyIAF  False   True    True -0.039756 -0.067549 -0.025136   \n",
        "75  output_2_s  LeakyIAF  False   True    True -0.045715 -0.067549 -0.025136   \n",
        "76  output_3_s  LeakyIAF  False   True    True -0.051704 -0.067549 -0.025136   \n",
        "\n",
        "           R         C  \n",
        "72  1.024456  0.066981  \n",
        "73  1.024456  0.066981  \n",
        "74  1.024456  0.066981  \n",
        "75  1.024456  0.066981  \n",
        "76  1.024456  0.066981  \n",
        "\n",
        "[5 rows x 10 columns]"
       ],
       "prompt_number": 10,
       "metadata": {}
      }
     ],
     "collapsed": false,
     "prompt_number": 10,
     "input": [
      "df_neu_0[df_neu_0['model'] == 'LeakyIAF'][50:55][['name','model','extern',\n",
      "                                'public','spiking','V','Vr','Vt','R','C']] "
     ],
     "metadata": {}
    },
    {
     "source": [
      "Say one wishes to find the parameters of the synapses linking neuron ``output_3_s`` to other destination neurons; these cane be accessed using the following query:"
     ],
     "cell_type": "markdown",
     "metadata": {}
    },
    {
     "cell_type": "code",
     "language": "python",
     "outputs": [
      {
       "output_type": "pyout",
       "html": [
        "<div style=\"max-height:1000px;max-width:1500px;overflow:auto;\">\n",
        "<table border=\"1\" class=\"dataframe\">\n",
        "  <thead>\n",
        "    <tr style=\"text-align: right;\">\n",
        "      <th></th>\n",
        "      <th></th>\n",
        "      <th>name</th>\n",
        "      <th>model</th>\n",
        "      <th>class</th>\n",
        "      <th>ar</th>\n",
        "      <th>ad</th>\n",
        "      <th>reverse</th>\n",
        "      <th>gmax</th>\n",
        "      <th>conductance</th>\n",
        "    </tr>\n",
        "  </thead>\n",
        "  <tbody>\n",
        "    <tr>\n",
        "      <th rowspan=\"19\" valign=\"top\">76</th>\n",
        "      <th>35</th>\n",
        "      <td>  output_3_s-local_0_s</td>\n",
        "      <td> AlphaSynapse</td>\n",
        "      <td> 0</td>\n",
        "      <td> 110</td>\n",
        "      <td> 1900</td>\n",
        "      <td> 0.065</td>\n",
        "      <td> 0.003</td>\n",
        "      <td> True</td>\n",
        "    </tr>\n",
        "    <tr>\n",
        "      <th>37</th>\n",
        "      <td>  output_3_s-local_2_g</td>\n",
        "      <td> AlphaSynapse</td>\n",
        "      <td> 1</td>\n",
        "      <td> 110</td>\n",
        "      <td> 1900</td>\n",
        "      <td> 0.065</td>\n",
        "      <td> 0.003</td>\n",
        "      <td> True</td>\n",
        "    </tr>\n",
        "    <tr>\n",
        "      <th>39</th>\n",
        "      <td>  output_3_s-local_4_s</td>\n",
        "      <td> AlphaSynapse</td>\n",
        "      <td> 0</td>\n",
        "      <td> 110</td>\n",
        "      <td> 1900</td>\n",
        "      <td> 0.065</td>\n",
        "      <td> 0.003</td>\n",
        "      <td> True</td>\n",
        "    </tr>\n",
        "    <tr>\n",
        "      <th>42</th>\n",
        "      <td>  output_3_s-local_7_s</td>\n",
        "      <td> AlphaSynapse</td>\n",
        "      <td> 0</td>\n",
        "      <td> 110</td>\n",
        "      <td> 1900</td>\n",
        "      <td> 0.065</td>\n",
        "      <td> 0.003</td>\n",
        "      <td> True</td>\n",
        "    </tr>\n",
        "    <tr>\n",
        "      <th>43</th>\n",
        "      <td>  output_3_s-local_8_g</td>\n",
        "      <td> AlphaSynapse</td>\n",
        "      <td> 1</td>\n",
        "      <td> 110</td>\n",
        "      <td> 1900</td>\n",
        "      <td> 0.065</td>\n",
        "      <td> 0.003</td>\n",
        "      <td> True</td>\n",
        "    </tr>\n",
        "    <tr>\n",
        "      <th>44</th>\n",
        "      <td>  output_3_s-local_9_s</td>\n",
        "      <td> AlphaSynapse</td>\n",
        "      <td> 0</td>\n",
        "      <td> 110</td>\n",
        "      <td> 1900</td>\n",
        "      <td> 0.065</td>\n",
        "      <td> 0.003</td>\n",
        "      <td> True</td>\n",
        "    </tr>\n",
        "    <tr>\n",
        "      <th>51</th>\n",
        "      <td> output_3_s-local_16_s</td>\n",
        "      <td> AlphaSynapse</td>\n",
        "      <td> 0</td>\n",
        "      <td> 110</td>\n",
        "      <td> 1900</td>\n",
        "      <td> 0.065</td>\n",
        "      <td> 0.003</td>\n",
        "      <td> True</td>\n",
        "    </tr>\n",
        "    <tr>\n",
        "      <th>53</th>\n",
        "      <td> output_3_s-local_18_g</td>\n",
        "      <td> AlphaSynapse</td>\n",
        "      <td> 1</td>\n",
        "      <td> 110</td>\n",
        "      <td> 1900</td>\n",
        "      <td> 0.065</td>\n",
        "      <td> 0.003</td>\n",
        "      <td> True</td>\n",
        "    </tr>\n",
        "    <tr>\n",
        "      <th>54</th>\n",
        "      <td> output_3_s-local_19_g</td>\n",
        "      <td> AlphaSynapse</td>\n",
        "      <td> 1</td>\n",
        "      <td> 110</td>\n",
        "      <td> 1900</td>\n",
        "      <td> 0.065</td>\n",
        "      <td> 0.003</td>\n",
        "      <td> True</td>\n",
        "    </tr>\n",
        "    <tr>\n",
        "      <th>55</th>\n",
        "      <td> output_3_s-local_20_g</td>\n",
        "      <td> AlphaSynapse</td>\n",
        "      <td> 1</td>\n",
        "      <td> 110</td>\n",
        "      <td> 1900</td>\n",
        "      <td> 0.065</td>\n",
        "      <td> 0.003</td>\n",
        "      <td> True</td>\n",
        "    </tr>\n",
        "    <tr>\n",
        "      <th>56</th>\n",
        "      <td> output_3_s-local_21_g</td>\n",
        "      <td> AlphaSynapse</td>\n",
        "      <td> 1</td>\n",
        "      <td> 110</td>\n",
        "      <td> 1900</td>\n",
        "      <td> 0.065</td>\n",
        "      <td> 0.003</td>\n",
        "      <td> True</td>\n",
        "    </tr>\n",
        "    <tr>\n",
        "      <th>57</th>\n",
        "      <td> output_3_s-local_22_g</td>\n",
        "      <td> AlphaSynapse</td>\n",
        "      <td> 1</td>\n",
        "      <td> 110</td>\n",
        "      <td> 1900</td>\n",
        "      <td> 0.065</td>\n",
        "      <td> 0.003</td>\n",
        "      <td> True</td>\n",
        "    </tr>\n",
        "    <tr>\n",
        "      <th>58</th>\n",
        "      <td> output_3_s-local_23_s</td>\n",
        "      <td> AlphaSynapse</td>\n",
        "      <td> 0</td>\n",
        "      <td> 110</td>\n",
        "      <td> 1900</td>\n",
        "      <td> 0.065</td>\n",
        "      <td> 0.003</td>\n",
        "      <td> True</td>\n",
        "    </tr>\n",
        "    <tr>\n",
        "      <th>62</th>\n",
        "      <td> output_3_s-local_27_s</td>\n",
        "      <td> AlphaSynapse</td>\n",
        "      <td> 0</td>\n",
        "      <td> 110</td>\n",
        "      <td> 1900</td>\n",
        "      <td> 0.065</td>\n",
        "      <td> 0.003</td>\n",
        "      <td> True</td>\n",
        "    </tr>\n",
        "    <tr>\n",
        "      <th>63</th>\n",
        "      <td> output_3_s-local_28_g</td>\n",
        "      <td> AlphaSynapse</td>\n",
        "      <td> 1</td>\n",
        "      <td> 110</td>\n",
        "      <td> 1900</td>\n",
        "      <td> 0.065</td>\n",
        "      <td> 0.003</td>\n",
        "      <td> True</td>\n",
        "    </tr>\n",
        "    <tr>\n",
        "      <th>66</th>\n",
        "      <td> output_3_s-local_31_g</td>\n",
        "      <td> AlphaSynapse</td>\n",
        "      <td> 1</td>\n",
        "      <td> 110</td>\n",
        "      <td> 1900</td>\n",
        "      <td> 0.065</td>\n",
        "      <td> 0.003</td>\n",
        "      <td> True</td>\n",
        "    </tr>\n",
        "    <tr>\n",
        "      <th>67</th>\n",
        "      <td> output_3_s-local_32_s</td>\n",
        "      <td> AlphaSynapse</td>\n",
        "      <td> 0</td>\n",
        "      <td> 110</td>\n",
        "      <td> 1900</td>\n",
        "      <td> 0.065</td>\n",
        "      <td> 0.003</td>\n",
        "      <td> True</td>\n",
        "    </tr>\n",
        "    <tr>\n",
        "      <th>70</th>\n",
        "      <td> output_3_s-local_35_g</td>\n",
        "      <td> AlphaSynapse</td>\n",
        "      <td> 1</td>\n",
        "      <td> 110</td>\n",
        "      <td> 1900</td>\n",
        "      <td> 0.065</td>\n",
        "      <td> 0.003</td>\n",
        "      <td> True</td>\n",
        "    </tr>\n",
        "    <tr>\n",
        "      <th>72</th>\n",
        "      <td> output_3_s-local_37_s</td>\n",
        "      <td> AlphaSynapse</td>\n",
        "      <td> 0</td>\n",
        "      <td> 110</td>\n",
        "      <td> 1900</td>\n",
        "      <td> 0.065</td>\n",
        "      <td> 0.003</td>\n",
        "      <td> True</td>\n",
        "    </tr>\n",
        "  </tbody>\n",
        "</table>\n",
        "<p>19 rows \u00d7 8 columns</p>\n",
        "</div>"
       ],
       "text": [
        "                        name         model  class   ar    ad  reverse   gmax  \\\n",
        "76 35   output_3_s-local_0_s  AlphaSynapse      0  110  1900    0.065  0.003   \n",
        "   37   output_3_s-local_2_g  AlphaSynapse      1  110  1900    0.065  0.003   \n",
        "   39   output_3_s-local_4_s  AlphaSynapse      0  110  1900    0.065  0.003   \n",
        "   42   output_3_s-local_7_s  AlphaSynapse      0  110  1900    0.065  0.003   \n",
        "   43   output_3_s-local_8_g  AlphaSynapse      1  110  1900    0.065  0.003   \n",
        "   44   output_3_s-local_9_s  AlphaSynapse      0  110  1900    0.065  0.003   \n",
        "   51  output_3_s-local_16_s  AlphaSynapse      0  110  1900    0.065  0.003   \n",
        "   53  output_3_s-local_18_g  AlphaSynapse      1  110  1900    0.065  0.003   \n",
        "   54  output_3_s-local_19_g  AlphaSynapse      1  110  1900    0.065  0.003   \n",
        "   55  output_3_s-local_20_g  AlphaSynapse      1  110  1900    0.065  0.003   \n",
        "   56  output_3_s-local_21_g  AlphaSynapse      1  110  1900    0.065  0.003   \n",
        "   57  output_3_s-local_22_g  AlphaSynapse      1  110  1900    0.065  0.003   \n",
        "   58  output_3_s-local_23_s  AlphaSynapse      0  110  1900    0.065  0.003   \n",
        "   62  output_3_s-local_27_s  AlphaSynapse      0  110  1900    0.065  0.003   \n",
        "   63  output_3_s-local_28_g  AlphaSynapse      1  110  1900    0.065  0.003   \n",
        "   66  output_3_s-local_31_g  AlphaSynapse      1  110  1900    0.065  0.003   \n",
        "   67  output_3_s-local_32_s  AlphaSynapse      0  110  1900    0.065  0.003   \n",
        "   70  output_3_s-local_35_g  AlphaSynapse      1  110  1900    0.065  0.003   \n",
        "   72  output_3_s-local_37_s  AlphaSynapse      0  110  1900    0.065  0.003   \n",
        "\n",
        "      conductance  \n",
        "76 35        True  \n",
        "   37        True  \n",
        "   39        True  \n",
        "   42        True  \n",
        "   43        True  \n",
        "   44        True  \n",
        "   51        True  \n",
        "   53        True  \n",
        "   54        True  \n",
        "   55        True  \n",
        "   56        True  \n",
        "   57        True  \n",
        "   58        True  \n",
        "   62        True  \n",
        "   63        True  \n",
        "   66        True  \n",
        "   67        True  \n",
        "   70        True  \n",
        "   72        True  \n",
        "\n",
        "[19 rows x 8 columns]"
       ],
       "prompt_number": 11,
       "metadata": {}
      }
     ],
     "collapsed": false,
     "prompt_number": 11,
     "input": [
      "ind = df_syn_0['name'].str.startswith('output_3_s')\n",
      "df_syn_0[ind][['name','model','class','ar','ad','reverse','gmax','conductance']]"
     ],
     "metadata": {}
    },
    {
     "source": [
      "Once the configuration and the input stimulus are ready, we execute the entire model both with and without connections defined between the LPUs:"
     ],
     "cell_type": "markdown",
     "metadata": {}
    },
    {
     "cell_type": "code",
     "language": "python",
     "outputs": [],
     "collapsed": false,
     "prompt_number": 12,
     "input": [
      "%cd -q ~/neurokernel/examples/intro\n",
      "%run intro_demo.py"
     ],
     "metadata": {}
    },
    {
     "source": [
      "Finally, we generate videos that depict the progress of the model execution with and without connections between the LPUs:"
     ],
     "cell_type": "markdown",
     "metadata": {}
    },
    {
     "cell_type": "code",
     "language": "python",
     "outputs": [],
     "collapsed": false,
     "prompt_number": 13,
     "input": [
      "%run visualize_output.py"
     ],
     "metadata": {}
    },
    {
     "source": [
      "Here is the output of the unconnected LPUs:"
     ],
     "cell_type": "markdown",
     "metadata": {}
    },
    {
     "cell_type": "code",
     "language": "python",
     "outputs": [
      {
       "output_type": "pyout",
       "html": [
        "\n",
        "        <iframe\n",
        "            width=\"400\"\n",
        "            height=300\"\n",
        "            src=\"http://www.youtube.com/embed/FY810D-hhD8\"\n",
        "            frameborder=\"0\"\n",
        "            allowfullscreen\n",
        "        ></iframe>\n",
        "        "
       ],
       "text": [
        "<IPython.lib.display.YouTubeVideo at 0x47121d0>"
       ],
       "prompt_number": 14,
       "metadata": {}
      }
     ],
     "collapsed": false,
     "prompt_number": 14,
     "input": [
      "IPython.display.YouTubeVideo('FY810D-hhD8')"
     ],
     "metadata": {}
    },
    {
     "source": [
      "Here is the output of the LPUs with synaptic connections from neurons in LPU 0 to LPU 1:"
     ],
     "cell_type": "markdown",
     "metadata": {}
    },
    {
     "cell_type": "code",
     "language": "python",
     "outputs": [
      {
       "output_type": "pyout",
       "html": [
        "\n",
        "        <iframe\n",
        "            width=\"400\"\n",
        "            height=300\"\n",
        "            src=\"http://www.youtube.com/embed/U2FGNbQ5ibg\"\n",
        "            frameborder=\"0\"\n",
        "            allowfullscreen\n",
        "        ></iframe>\n",
        "        "
       ],
       "text": [
        "<IPython.lib.display.YouTubeVideo at 0x4712150>"
       ],
       "prompt_number": 15,
       "metadata": {}
      }
     ],
     "collapsed": false,
     "prompt_number": 15,
     "input": [
      "IPython.display.YouTubeVideo('U2FGNbQ5ibg')"
     ],
     "metadata": {}
    },
    {
     "source": [
      "If one compares the two videos, one will observe that the output of LPU 0 in both videos remains the same while that of LPU 1 exhibits changes when connected to LPU 0. This confirms that the one-way connectivity pattern defined earlier is transmitting data from one LPU to the other during model execution."
     ],
     "cell_type": "markdown",
     "metadata": {}
    },
    {
     "source": [
      "References"
     ],
     "cell_type": "heading",
     "metadata": {},
     "level": 3
    },
    {
     "source": [
      "<a name=\"chiang_three-dimensional_2011\"></a>Chiang, A.-S., Lin, C.-Y., Chuang, C.-C., Chang, H.-M., Hsieh, C.-H., Yeh, C.-W., et al. (2011), Three-dimensional reconstruction of brain-wide wiring networks in Drosophila at single-cell resolution, Current Biology, 21, 1, 1\u201311, doi:10.1016/j.cub.2010.11.056"
     ],
     "cell_type": "markdown",
     "metadata": {}
    }
   ],
   "metadata": {}
  }
 ],
 "metadata": {
  "name": ""
 }
}