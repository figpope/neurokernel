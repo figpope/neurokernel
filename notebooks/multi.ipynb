{
 "nbformat": 3,
 "nbformat_minor": 0,
 "worksheets": [
  {
   "cells": [
    {
     "source": [
      "Mapping a Network of LPUs onto Multiple GPUs"
     ],
     "cell_type": "heading",
     "metadata": {},
     "level": 1
    },
    {
     "source": [
      "This notebook illustrates how to connect and execute several generic LPUs on multiple GPUs."
     ],
     "cell_type": "markdown",
     "metadata": {}
    },
    {
     "source": [
      "Background"
     ],
     "cell_type": "heading",
     "metadata": {},
     "level": 3
    },
    {
     "source": [
      "Neurokernel's architecture enables one to specify complex networks of LPUs that interact via different connectivity patterns and map the LPUs to individual GPUs. This functionality is essential both to express models of the entire fly brain in terms of their constituent processing units and to the development of future resource allocation mechanisms that will be able to take advantage of available GPU resources in an automated manner."
     ],
     "cell_type": "markdown",
     "metadata": {}
    },
    {
     "source": [
      "<img src='files/files/lpu-network.jpg' />"
     ],
     "cell_type": "markdown",
     "metadata": {}
    },
    {
     "source": [
      "Constructing an LPU Network"
     ],
     "cell_type": "heading",
     "metadata": {},
     "level": 3
    },
    {
     "source": [
      "Since each LPU instance in a multi-LPU model must possess a unique identifier, construction of an LPU network is a matter of instantiating connectivity patterns between those pairs of LPUs that one wishes to connect and populating them with data describing the connections between neurons exposed by the respective LPUs.\n",
      "\n",
      "In the example below, we first create an input signal and instantiate N generic LPUs containing fixed numbers of local and output neurons. Notice that only one LPU receives the input signal:"
     ],
     "cell_type": "markdown",
     "metadata": {}
    },
    {
     "cell_type": "code",
     "language": "python",
     "outputs": [],
     "collapsed": false,
     "prompt_number": 1,
     "input": [
      "%cd -q ~/neurokernel/examples/multi/data\n",
      "\n",
      "import itertools\n",
      "import gen_generic_lpu as g\n",
      "\n",
      "%cd -q ~/neurokernel/examples/multi\n",
      "\n",
      "from neurokernel.tools.comm import get_random_port\n",
      "from neurokernel.tools.graph import graph_to_df\n",
      "from neurokernel.core import Connectivity, Manager\n",
      "from neurokernel.LPU.LPU import LPU\n",
      "\n",
      "dt = 1e-4\n",
      "dur = 1.0\n",
      "start = 0.3\n",
      "stop = 0.6\n",
      "I_max = 0.6\n",
      "steps = int(dur/dt)\n",
      "\n",
      "N_sensory = 30\n",
      "N_local = 30\n",
      "N_output = 30\n",
      "\n",
      "N = 3\n",
      "\n",
      "# Only LPU 0 receives input and should therefore be associated with a population                                   \n",
      "# of sensory neurons:  \n",
      "neu_dict = {i: [0, N_local, N_output] for i in xrange(N)}\n",
      "neu_dict[0][0] = N_sensory\n",
      "\n",
      "# Create input signal for LPU 0:                                                                                   \n",
      "in_file_name_0 = 'data/generic_input.h5'\n",
      "g.create_input(in_file_name_0, neu_dict[0][0], dt, dur, start, stop, I_max)\n",
      "\n",
      "# Store info for all instantiated LPUs in the following dict:                                                      \n",
      "lpu_dict = {}\n",
      "\n",
      "# Create several LPUs:                                                                                             \n",
      "port_data = get_random_port()\n",
      "port_ctrl = get_random_port()\n",
      "\n",
      "for i, neu_num in neu_dict.iteritems():\n",
      "    lpu_entry = {}\n",
      "\n",
      "    if i == 0:\n",
      "        in_file_name = in_file_name_0\n",
      "    else:\n",
      "        in_file_name = None\n",
      "    lpu_file_name = 'data/generic_lpu_%s.gexf.gz' % i\n",
      "    out_file_name = 'generic_output_%s.h5' % i\n",
      "\n",
      "    g.create_lpu(lpu_file_name, *neu_num)\n",
      "    (n_dict, s_dict) = LPU.lpu_parser(lpu_file_name)\n",
      "\n",
      "    id = 'lpu_%s' % i\n",
      "    lpu = LPU(dt, n_dict, s_dict, input_file=in_file_name,\n",
      "              output_file=out_file_name,\n",
      "              port_ctrl=port_ctrl, port_data=port_data,\n",
      "              device=i, id=id,\n",
      "              debug=False)\n",
      "\n",
      "    lpu_entry['lpu_file_name'] = lpu_file_name\n",
      "    lpu_entry['in_file_name'] = in_file_name\n",
      "    lpu_entry['out_file_name'] = out_file_name\n",
      "    lpu_entry['lpu'] = lpu\n",
      "    lpu_entry['id'] = id\n",
      "\n",
      "    lpu_dict[i] = lpu_entry"
     ],
     "metadata": {}
    },
    {
     "source": [
      "Once the LPUs have been instantiated, we use the numbers of spiking and graded potential neurons in each LPU to define connectivity patterns between those LPUs we wish to connect. Notice that since the ``Connectivity`` class enables one to specify connections in both directions between two LPUs, it is only necessary to consider combinations of LPUs without regard to their order. In the example below, we define connections between all pairs of LPUs in the network, i.e., the graph of all LPUs is complete, and we only connect spiking neurons exposed by the LPUs:"
     ],
     "cell_type": "markdown",
     "metadata": {}
    },
    {
     "cell_type": "code",
     "language": "python",
     "outputs": [],
     "collapsed": false,
     "prompt_number": 2,
     "input": [
      "syn_params = {'AlphaSynapse': ['ad', 'ar', 'gmax', 'id', 'class', 'conductance', 'reverse']}\n",
      "\n",
      "man = Manager(port_data, port_ctrl)\n",
      "man.add_brok()\n",
      "\n",
      "# Since each connectivity pattern between two LPUs contains the synapses in both                                   \n",
      "# directions, create connectivity patterns between each combination of LPU                                         \n",
      "# pairs:                                                                                                           \n",
      "for lpu_0, lpu_1 in itertools.combinations(lpu_dict.keys(), 2):\n",
      "\n",
      "    df_neu_0, df_syn_0 = graph_to_df(nx.read_gexf(lpu_dict[lpu_0]['lpu_file_name']))\n",
      "    df_neu_1, df_syn_1 = graph_to_df(nx.read_gexf(lpu_dict[lpu_1]['lpu_file_name']))\n",
      "\n",
      "    N_spike_0 = len(df_neu_0[(df_neu_0['spiking']==True)&(df_neu_0['public']==True)])\n",
      "    N_gpot_0 = len(df_neu_0[(df_neu_0['spiking']==False)&(df_neu_0['public']==True)])\n",
      "\n",
      "    N_spike_1 = len(df_neu_1[(df_neu_1['spiking']==True)&(df_neu_1['public']==True)])\n",
      "    N_gpot_1 = len(df_neu_1[(df_neu_1['spiking']==False)&(df_neu_1['public']==True)])\n",
      "\n",
      "    conn = Connectivity(N_gpot_0, N_spike_0, N_gpot_1, N_spike_1, 1,\n",
      "                        lpu_dict[lpu_0]['id'], lpu_dict[lpu_1]['id'],\n",
      "                        syn_params)\n",
      "\n",
      "    # Define synapses between spiking neurons in both directions:                                                  \n",
      "    for id_src, id_dest, N_spike_src, N_spike_dest in \\\n",
      "      [(lpu_dict[lpu_0]['id'], lpu_dict[lpu_1]['id'], N_spike_0, N_spike_1),\n",
      "        (lpu_dict[lpu_1]['id'], lpu_dict[lpu_0]['id'], N_spike_1, N_spike_0)]:\n",
      "        id_start = 0\n",
      "        for id, (i, j) in enumerate(itertools.product(xrange(N_spike_src),\n",
      "                                                      xrange(N_spike_dest)), id_start):\n",
      "            conn[id_src, 'spike', i, id_dest, 'spike', j] = 1\n",
      "            conn[id_src, 'spike', i, id_dest, 'spike', j, 0, 'name'] = \\\n",
      "                'syn_%s:%s_%s:%s' % (id_src, i, id_dest, j)\n",
      "            conn[id_src, 'spike', i, id_dest, 'spike', j, 0, 'model'] = 'AlphaSynapse'\n",
      "\n",
      "            conn[id_src, 'spike', i, id_dest, 'spike', j, 0, 'ad'] = 0.19*1000\n",
      "            conn[id_src, 'spike', i, id_dest, 'spike', j, 0, 'ar'] = 1.1*100\n",
      "            conn[id_src, 'spike', i, id_dest, 'spike', j, 0, 'class'] = 0 # spike->spike                           \n",
      "            conn[id_src, 'spike', i, id_dest, 'spike', j, 0, 'conductance'] = True\n",
      "            conn[id_src, 'spike', i, id_dest, 'spike', j, 0, 'gmax'] = 0.003\n",
      "            conn[id_src, 'spike', i, id_dest, 'spike', j, 0, 'id'] = id\n",
      "            conn[id_src, 'spike', i, id_dest, 'spike', j, 0, 'reverse'] = 0.065\n",
      "        id_start = id+1\n",
      "\n",
      "    man.connect(lpu_dict[lpu_0]['lpu'], lpu_dict[lpu_1]['lpu'], conn)"
     ],
     "metadata": {}
    },
    {
     "source": [
      "Once all of the connections are in place, the entire network may be executed as follows:"
     ],
     "cell_type": "markdown",
     "metadata": {}
    },
    {
     "cell_type": "code",
     "language": "python",
     "outputs": [],
     "collapsed": false,
     "prompt_number": 3,
     "input": [
      "man.start(steps=steps)\n",
      "man.stop()"
     ],
     "metadata": {}
    },
    {
     "source": [
      "Generated output for each LPU is stored in HDF5 files."
     ],
     "cell_type": "markdown",
     "metadata": {}
    },
    {
     "source": [
      "Assuming that the Neurokernel source code has been cloned to ``~/neurokernel``, the above demo can also be run in script form as follows. The parameters below specify a model comprising 30 sensory neurons connected to one LPU in a network of 3 LPUs connected to each other, each of which contains 30 local neurons and 30 output neurons:"
     ],
     "cell_type": "markdown",
     "metadata": {}
    },
    {
     "cell_type": "code",
     "language": "python",
     "outputs": [],
     "collapsed": false,
     "prompt_number": 4,
     "input": [
      "%cd -q ~/neurokernel/examples/multi\n",
      "%run multi_demo.py -y 30 -n 30 -o 30 -u 3"
     ],
     "metadata": {}
    }
   ],
   "metadata": {}
  }
 ],
 "metadata": {
  "name": ""
 }
}