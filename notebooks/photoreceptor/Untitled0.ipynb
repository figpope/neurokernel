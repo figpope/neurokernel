{
 "metadata": {
  "name": ""
 },
 "nbformat": 3,
 "nbformat_minor": 0,
 "worksheets": [
  {
   "cells": [
    {
     "cell_type": "code",
     "collapsed": false,
     "input": [
      "ls"
     ],
     "language": "python",
     "metadata": {},
     "outputs": [
      {
       "output_type": "stream",
       "stream": "stdout",
       "text": [
        "photo_absorption.py  photo_absorption.pyc  Untitled0.ipynb\r\n"
       ]
      }
     ],
     "prompt_number": 1
    },
    {
     "cell_type": "code",
     "collapsed": false,
     "input": [
      "from photo_absorption import Photo_Receptor"
     ],
     "language": "python",
     "metadata": {},
     "outputs": [],
     "prompt_number": 2
    },
    {
     "cell_type": "code",
     "collapsed": false,
     "input": [
      "a = Photo_Receptor()"
     ],
     "language": "python",
     "metadata": {},
     "outputs": [],
     "prompt_number": 3
    },
    {
     "cell_type": "code",
     "collapsed": false,
     "input": [
      "a.N_m"
     ],
     "language": "python",
     "metadata": {},
     "outputs": [
      {
       "metadata": {},
       "output_type": "pyout",
       "prompt_number": 4,
       "text": [
        "30000"
       ]
      }
     ],
     "prompt_number": 4
    },
    {
     "cell_type": "code",
     "collapsed": false,
     "input": [
      "a.absorb(500)"
     ],
     "language": "python",
     "metadata": {},
     "outputs": [
      {
       "ename": "OverflowError",
       "evalue": "long int too large to convert to float",
       "output_type": "pyerr",
       "traceback": [
        "\u001b[1;31m---------------------------------------------------------------------------\u001b[0m\n\u001b[1;31mOverflowError\u001b[0m                             Traceback (most recent call last)",
        "\u001b[1;32m<ipython-input-5-0cdabb5e580b>\u001b[0m in \u001b[0;36m<module>\u001b[1;34m()\u001b[0m\n\u001b[1;32m----> 1\u001b[1;33m \u001b[0ma\u001b[0m\u001b[1;33m.\u001b[0m\u001b[0mabsorb\u001b[0m\u001b[1;33m(\u001b[0m\u001b[1;36m500\u001b[0m\u001b[1;33m)\u001b[0m\u001b[1;33m\u001b[0m\u001b[0m\n\u001b[0m",
        "\u001b[1;32m/home/hanyu/NK/neurokernel/notebooks/photoreceptor/photo_absorption.py\u001b[0m in \u001b[0;36mabsorb\u001b[1;34m(self, N_ph)\u001b[0m\n\u001b[0;32m     16\u001b[0m         \u001b[1;32mwhile\u001b[0m\u001b[1;33m(\u001b[0m\u001b[1;36m1\u001b[0m\u001b[1;33m)\u001b[0m\u001b[1;33m:\u001b[0m\u001b[1;33m\u001b[0m\u001b[0m\n\u001b[0;32m     17\u001b[0m             \u001b[0mf\u001b[0m \u001b[1;33m=\u001b[0m \u001b[0mpow\u001b[0m\u001b[1;33m(\u001b[0m\u001b[0mself\u001b[0m\u001b[1;33m.\u001b[0m\u001b[0mlambdaM\u001b[0m\u001b[1;33m,\u001b[0m\u001b[0mk\u001b[0m\u001b[1;33m)\u001b[0m\u001b[1;33m*\u001b[0m\u001b[0mexp\u001b[0m\u001b[1;33m(\u001b[0m\u001b[1;33m-\u001b[0m\u001b[0mself\u001b[0m\u001b[1;33m.\u001b[0m\u001b[0mlambdaM\u001b[0m\u001b[1;33m)\u001b[0m\u001b[1;33m\u001b[0m\u001b[0m\n\u001b[1;32m---> 18\u001b[1;33m             \u001b[0mf\u001b[0m \u001b[1;33m=\u001b[0m \u001b[0mfloat\u001b[0m\u001b[1;33m(\u001b[0m\u001b[0mf\u001b[0m\u001b[1;33m)\u001b[0m\u001b[1;33m/\u001b[0m\u001b[0mfloat\u001b[0m\u001b[1;33m(\u001b[0m\u001b[0mfactorial\u001b[0m\u001b[1;33m(\u001b[0m\u001b[0mk\u001b[0m\u001b[1;33m)\u001b[0m\u001b[1;33m)\u001b[0m\u001b[1;33m\u001b[0m\u001b[0m\n\u001b[0m\u001b[0;32m     19\u001b[0m             \u001b[0mk\u001b[0m \u001b[1;33m=\u001b[0m \u001b[0mk\u001b[0m\u001b[1;33m+\u001b[0m\u001b[1;36m1\u001b[0m\u001b[1;33m\u001b[0m\u001b[0m\n\u001b[0;32m     20\u001b[0m             \u001b[1;32mif\u001b[0m\u001b[1;33m(\u001b[0m\u001b[0mf\u001b[0m \u001b[1;33m<\u001b[0m \u001b[1;36m1\u001b[0m\u001b[1;33m/\u001b[0m\u001b[0mself\u001b[0m\u001b[1;33m.\u001b[0m\u001b[0mN_micro\u001b[0m\u001b[1;33m)\u001b[0m\u001b[1;33m:\u001b[0m\u001b[1;33m\u001b[0m\u001b[0m\n",
        "\u001b[1;31mOverflowError\u001b[0m: long int too large to convert to float"
       ]
      },
      {
       "output_type": "stream",
       "stream": "stdout",
       "text": [
        "500 photons\n",
        "1 : 1.0\n",
        "2 : 0.0\n",
        "3 : 0.0\n",
        "4 : 0.0\n",
        "5 : 0.0\n",
        "6 : 0.0\n",
        "7 : 0.0\n",
        "8 : 0.0\n",
        "9 : 0.0\n",
        "10 : 0.0\n",
        "11 : 0.0\n",
        "12 : 0.0\n",
        "13 : 0.0\n",
        "14 : 0.0\n",
        "15 : 0.0\n",
        "16 : 0.0\n",
        "17 : 0.0\n",
        "18 : 0.0\n",
        "19 : 0.0\n",
        "20 : 0.0\n",
        "21 : 0.0\n",
        "22 : 0.0\n",
        "23 : 0.0\n",
        "24 : 0.0\n",
        "25 : 0.0\n",
        "26 : 0.0\n",
        "27 : 0.0\n",
        "28 : 0.0\n",
        "29 : 0.0\n",
        "30 : 0.0\n",
        "31 : 0.0\n",
        "32 : 0.0\n",
        "33 : 0.0\n",
        "34 : 0.0\n",
        "35 : 0.0\n",
        "36 : 0.0\n",
        "37 : 0.0\n",
        "38 : 0.0\n",
        "39 : 0.0\n",
        "40 : 0.0\n",
        "41 : 0.0\n",
        "42 : 0.0\n",
        "43 : 0.0\n",
        "44 : 0.0\n",
        "45 : 0.0\n",
        "46 : 0.0\n",
        "47 : 0.0\n",
        "48 : 0.0\n",
        "49 : 0.0\n",
        "50 : 0.0\n",
        "51 : 0.0\n",
        "52 : 0.0\n",
        "53 : 0.0\n",
        "54 : 0.0\n",
        "55 : 0.0\n",
        "56 : 0.0\n",
        "57 : 0.0\n",
        "58 : 0.0\n",
        "59 : 0.0\n",
        "60 : 0.0\n",
        "61 : 0.0\n",
        "62 : 0.0\n",
        "63 : 0.0\n",
        "64 : 0.0\n",
        "65 : 0.0\n",
        "66 : 0.0\n",
        "67 : 0.0\n",
        "68 : 0.0\n",
        "69 : 0.0\n",
        "70 : 0.0\n",
        "71 : 0.0\n",
        "72 : 0.0\n",
        "73 : 0.0\n",
        "74 : 0.0\n",
        "75 : 0.0\n",
        "76 : 0.0\n",
        "77 : 0.0\n",
        "78 : 0.0\n",
        "79 : 0.0\n",
        "80 : 0.0\n",
        "81 : 0.0\n",
        "82 : 0.0\n",
        "83 : 0.0\n",
        "84 : 0.0\n",
        "85 : 0.0\n",
        "86 : 0.0\n",
        "87 : 0.0\n",
        "88 : 0.0\n",
        "89 : 0.0\n",
        "90 : 0.0\n",
        "91 : 0.0\n",
        "92 : 0.0\n",
        "93 : 0.0\n",
        "94 : 0.0\n",
        "95 : 0.0\n",
        "96 : 0.0\n",
        "97 : 0.0\n",
        "98 : 0.0\n",
        "99 : 0.0\n",
        "100 : 0.0\n",
        "101 : 0.0\n",
        "102 : 0.0\n",
        "103 : 0.0\n",
        "104 : 0.0\n",
        "105 : 0.0\n",
        "106 : 0.0\n",
        "107 : 0.0\n",
        "108 : 0.0\n",
        "109 : 0.0\n",
        "110 : 0.0\n",
        "111 : 0.0\n",
        "112 : 0.0\n",
        "113 : 0.0\n",
        "114 : 0.0\n",
        "115 : 0.0\n",
        "116 : 0.0\n",
        "117 : 0.0\n",
        "118 : 0.0\n",
        "119 : 0.0\n",
        "120 : 0.0\n",
        "121 : 0.0\n",
        "122 : 0.0\n",
        "123 : 0.0\n",
        "124 : 0.0\n",
        "125 : 0.0\n",
        "126 : 0.0\n",
        "127 : 0.0\n",
        "128 : 0.0\n",
        "129 : 0.0\n",
        "130 : 0.0\n",
        "131 : 0.0\n",
        "132 : 0.0\n",
        "133 : 0.0\n",
        "134 : 0.0\n",
        "135 : 0.0\n",
        "136 : 0.0\n",
        "137 : 0.0\n",
        "138 : 0.0\n",
        "139 : 0.0\n",
        "140 : 0.0\n",
        "141 : 0.0\n",
        "142 : 0.0\n",
        "143 : 0.0\n",
        "144 : 0.0\n",
        "145 : 0.0\n",
        "146 : 0.0\n",
        "147 : 0.0\n",
        "148 : 0.0\n",
        "149 : 0.0\n",
        "150 : 0.0\n",
        "151 : 0.0\n",
        "152 : 0.0\n",
        "153 : 0.0\n",
        "154 : 0.0\n",
        "155 : 0.0\n",
        "156 : 0.0\n",
        "157 : 0.0\n",
        "158 : 0.0\n",
        "159 : 0.0\n",
        "160 : 0.0\n",
        "161 : 0.0\n",
        "162 : 0.0\n",
        "163 : 0.0\n",
        "164 : 0.0\n",
        "165 : 0.0\n",
        "166 : 0.0\n",
        "167 : 0.0\n",
        "168 : 0.0\n",
        "169 : 0.0\n",
        "170 : 0.0\n",
        "171 : 0.0\n"
       ]
      }
     ],
     "prompt_number": 5
    },
    {
     "cell_type": "code",
     "collapsed": false,
     "input": [
      "\n"
     ],
     "language": "python",
     "metadata": {},
     "outputs": []
    }
   ],
   "metadata": {}
  }
 ]
}