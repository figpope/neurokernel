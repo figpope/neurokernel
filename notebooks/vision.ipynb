{
 "metadata": {
  "name": ""
 },
 "nbformat": 3,
 "nbformat_minor": 0,
 "worksheets": [
  {
   "cells": [
    {
     "cell_type": "heading",
     "level": 1,
     "metadata": {},
     "source": [
      "Vision Model Demo"
     ]
    },
    {
     "cell_type": "markdown",
     "metadata": {},
     "source": [
      "This notebook illustrates how to run a Neurokernel-based model of portions of the fly's vision system."
     ]
    },
    {
     "cell_type": "heading",
     "level": 3,
     "metadata": {},
     "source": [
      "Background"
     ]
    },
    {
     "cell_type": "markdown",
     "metadata": {},
     "source": [
      "In addition to the retina where the photo-transduction takes place, the optic\n",
      "lobe of the *Drosophila* can be divided into 4 major LPUs on each side of\n",
      "the fly brain respectively referred to as the lamina, medulla, lobula and lobula\n",
      "plate. Visual information progresses along a processing path that starts at the\n",
      "retina and successively passes through the lamina, medulla, and either the\n",
      "lobula or the lobula plate. The spatial structure of the visual stimulus is\n",
      "preserved by the retinotopic columnar organization of most of these LPUs.\n",
      "\n",
      "There are at least 120 different types of neurons in the optic lobe. \n",
      "Most of the neurons in the optic lobe (if not all)\n",
      "do not emit spikes; rather, they communicate via chemical synapses where\n",
      "neurotransmitter is tonically released based on the graded potential of the\n",
      "presynaptic neurons. The synapses can have varying amount of delays based on the\n",
      "different neurotransmitters. Many neurons in the optic lobe also communicate\n",
      "through gap junctions.\n",
      "\n",
      "The current vision system model is based upon available connectome data for the\n",
      "lamina [(Rivera-Alba et al., 2011)](#rivera-alba_wiring_2011) and medulla\n",
      "[(Fischbach et al., 1989;](#fischbach_optic_1989)[ Higgins et al., 2004)](#higgins_computational_2004). The model\n",
      "consists of two LPUs; the first contains 9516 neurons (or about 90% of the\n",
      "cells) in the retina and lamina, while the second contains 6920 (or about 17%\n",
      "of the cells) in the medulla and several neurons that connect to both the\n",
      "medulla and first layer of the lobula.  All neurons are modeled using the\n",
      "Morris-Lecar model with parameters selected to not elicit spiking activity. \n",
      "Synapses are modeled using a simple model of tonic neurotransmitter release and \n",
      "its effect upon postsynaptic conductance. The model does not currently comprise gap junctions.\n",
      "\n",
      "[GEXF](http://gexf.net) files containing the model configuration are available in the ``examples/vision/data`` subdirectory of the Neurokernel source code."
     ]
    },
    {
     "cell_type": "heading",
     "level": 3,
     "metadata": {},
     "source": [
      "Executing the Model"
     ]
    },
    {
     "cell_type": "markdown",
     "metadata": {},
     "source": [
      "Assuming that the Neurokernel source has been cloned to `~/neurokernel`, we first generate an input of duration 1.0 seconds and execute the model:"
     ]
    },
    {
     "cell_type": "code",
     "collapsed": false,
     "input": [
      "%cd -q ~/neurokernel/examples/vision/data\n",
      "%run gen_vis_input.py\n",
      "%cd -q ..\n",
      "%run vision_demo.py"
     ],
     "language": "python",
     "metadata": {},
     "outputs": [],
     "prompt_number": 1
    },
    {
     "cell_type": "markdown",
     "metadata": {},
     "source": [
      "Next, we generate a video of the membrane potentials of specific neurons in the two LPUs:"
     ]
    },
    {
     "cell_type": "code",
     "collapsed": false,
     "input": [
      "%run visualize_output.py"
     ],
     "language": "python",
     "metadata": {},
     "outputs": [],
     "prompt_number": 2
    },
    {
     "cell_type": "markdown",
     "metadata": {},
     "source": [
      "The visualization script produces a video that depicts an input signal provided to a grid comprising neurons associated with each of the 768 cartridges in one of the fly's eyes as well as the response of select neurons in the corresponding columns in the retina/lamina and medulla LPUs. The cartridges and columns are organized in a hexagonal grid similar to the following; each pixel in the visualization corresponds to the neuron associated with one cartridge or column. "
     ]
    },
    {
     "cell_type": "markdown",
     "metadata": {},
     "source": [
      "<img src='files/files/vision-grid.png' />"
     ]
    },
    {
     "cell_type": "markdown",
     "metadata": {},
     "source": [
      "The resulting video (hosted on YouTube) can be viewed below:"
     ]
    },
    {
     "cell_type": "code",
     "collapsed": false,
     "input": [
      "IPython.display.YouTubeVideo('Puqk7jHNL5g')"
     ],
     "language": "python",
     "metadata": {},
     "outputs": [
      {
       "html": [
        "\n",
        "            <iframe\n",
        "                width=\"400\"\n",
        "                height=\"300\"\n",
        "                src=\"http://www.youtube.com/embed/Puqk7jHNL5g\"\n",
        "                frameborder=\"0\"\n",
        "                allowfullscreen\n",
        "            ></iframe>\n",
        "        "
       ],
       "output_type": "pyout",
       "prompt_number": 3,
       "text": [
        "<IPython.lib.display.YouTubeVideo at 0x256fed0>"
       ]
      }
     ],
     "prompt_number": 3
    },
    {
     "cell_type": "markdown",
     "metadata": {},
     "source": [
      "The three response animations correspond to the specific neurons depicted below:"
     ]
    },
    {
     "cell_type": "markdown",
     "metadata": {},
     "source": [
      "<img src=\"files/files/vision-pipeline.png\" />"
     ]
    },
    {
     "cell_type": "heading",
     "level": 3,
     "metadata": {},
     "source": [
      "Acknowledgements"
     ]
    },
    {
     "cell_type": "markdown",
     "metadata": {},
     "source": [
      "The vision model demonstrated in this notebook was developed by Nikul H. Ukani and Yiyin Zhou."
     ]
    },
    {
     "cell_type": "heading",
     "level": 3,
     "metadata": {},
     "source": [
      "References"
     ]
    },
    {
     "cell_type": "markdown",
     "metadata": {},
     "source": [
      "<a name=\"#fischbach_optic_1989\"></a>Fischbach, K.-F. and Dittrich, A. (1989), The optic lobe of Drosophila melanogaster. I. a Golgi analysis of wild-type structure, Cell and Tissue Research, 258, 3, doi:10.1007/BF00218858<br /><br />\n",
      "<a name=\"#higgins_computational_2004\"></a>Higgins, C. M., Douglass, J. K., and Strausfeld, N. J. (2004), The computational basis of an identified neuronal circuit for elementary motion detection in dipterous insects, Visual Neuroscience, 21, 04, 567\u2013586, doi:10.1017/S0952523804214079<br /><br />\n",
      "<a name=\"#rivera-alba_wiring_2011\"></a>Rivera-Alba, M., Vitaladevuni, S. N., Mishchenko, Y., Lu, Z., Takemura, S.-Y., Scheffer, L., et al. (2011), Wiring economy and volume exclusion determine neuronal placement in the Drosophila brain, Current Biology, 21, 23, 2000\u20132005, doi:10.1016/j.cub.2011.10.022<br /><br />"
     ]
    }
   ],
   "metadata": {}
  }
 ]
}